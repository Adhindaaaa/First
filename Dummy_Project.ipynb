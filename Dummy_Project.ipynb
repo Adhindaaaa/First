{
  "nbformat": 4,
  "nbformat_minor": 0,
  "metadata": {
    "colab": {
      "provenance": []
    },
    "kernelspec": {
      "name": "python3",
      "display_name": "Python 3"
    },
    "language_info": {
      "name": "python"
    }
  },
  "cells": [
    {
      "cell_type": "code",
      "execution_count": null,
      "metadata": {
        "id": "0HRHU6zTYF1N"
      },
      "outputs": [],
      "source": [
        "umur = 20"
      ]
    },
    {
      "cell_type": "code",
      "source": [
        "print(umur)"
      ],
      "metadata": {
        "colab": {
          "base_uri": "https://localhost:8080/"
        },
        "id": "fdPVXkAGYifx",
        "outputId": "24cb576d-097b-43f1-d65b-69b7ac28f45a"
      },
      "execution_count": null,
      "outputs": [
        {
          "output_type": "stream",
          "name": "stdout",
          "text": [
            "20\n"
          ]
        }
      ]
    },
    {
      "cell_type": "code",
      "source": [
        "Nama = \"Adhinda\""
      ],
      "metadata": {
        "id": "MtPNJK96YxoN"
      },
      "execution_count": null,
      "outputs": []
    },
    {
      "cell_type": "code",
      "source": [
        "print(Nama)"
      ],
      "metadata": {
        "colab": {
          "base_uri": "https://localhost:8080/"
        },
        "id": "7d5ORqkNY1RE",
        "outputId": "767b8dec-8347-40b9-e092-1d871db60ec2"
      },
      "execution_count": null,
      "outputs": [
        {
          "output_type": "stream",
          "name": "stdout",
          "text": [
            "Adhinda\n"
          ]
        }
      ]
    },
    {
      "cell_type": "code",
      "source": [
        "Nama_Lengkap = \"Adhinda Septhia\""
      ],
      "metadata": {
        "id": "MlueqISKY3Cv"
      },
      "execution_count": null,
      "outputs": []
    },
    {
      "cell_type": "code",
      "source": [
        "Listku = ['Adhinda','Nita', 'Mamah']\n",
        "Listku"
      ],
      "metadata": {
        "colab": {
          "base_uri": "https://localhost:8080/"
        },
        "id": "MdqwqORkY_8J",
        "outputId": "ce17d618-9af0-43a5-f412-ad96fb64a20b"
      },
      "execution_count": null,
      "outputs": [
        {
          "output_type": "execute_result",
          "data": {
            "text/plain": [
              "['Adhinda', 'Nita', 'Mamah']"
            ]
          },
          "metadata": {},
          "execution_count": 8
        }
      ]
    },
    {
      "cell_type": "code",
      "source": [
        "nama_ku = \"Adhinda\"\n",
        "nama_mu = \"Anita\"\n",
        "\n",
        "nama_ku + nama_mu\n",
        "\n"
      ],
      "metadata": {
        "colab": {
          "base_uri": "https://localhost:8080/",
          "height": 36
        },
        "id": "8tSvky0wae7o",
        "outputId": "a02d5cc5-0252-42b6-f74e-2804071f3104"
      },
      "execution_count": null,
      "outputs": [
        {
          "output_type": "execute_result",
          "data": {
            "text/plain": [
              "'AdhindaAnita'"
            ],
            "application/vnd.google.colaboratory.intrinsic+json": {
              "type": "string"
            }
          },
          "metadata": {},
          "execution_count": 10
        }
      ]
    },
    {
      "cell_type": "code",
      "source": [
        "nama_ku.lower()"
      ],
      "metadata": {
        "colab": {
          "base_uri": "https://localhost:8080/",
          "height": 36
        },
        "id": "_wFSwzltcbjO",
        "outputId": "f1df8516-e3c4-43cc-cc1f-13939f165bd4"
      },
      "execution_count": null,
      "outputs": [
        {
          "output_type": "execute_result",
          "data": {
            "text/plain": [
              "'adhinda'"
            ],
            "application/vnd.google.colaboratory.intrinsic+json": {
              "type": "string"
            }
          },
          "metadata": {},
          "execution_count": 12
        }
      ]
    },
    {
      "cell_type": "code",
      "source": [
        "Phone_number = 62"
      ],
      "metadata": {
        "id": "GwUuWy7_cm8S"
      },
      "execution_count": null,
      "outputs": []
    },
    {
      "cell_type": "code",
      "source": [
        "num_list=['12','14',[16,20,30]]\n",
        "num_list"
      ],
      "metadata": {
        "colab": {
          "base_uri": "https://localhost:8080/"
        },
        "id": "vQpEz-4AmDH4",
        "outputId": "310421e6-9163-4829-a555-36ac142c052c"
      },
      "execution_count": null,
      "outputs": [
        {
          "output_type": "execute_result",
          "data": {
            "text/plain": [
              "['12', '14', [16, 20, 30]]"
            ]
          },
          "metadata": {},
          "execution_count": 14
        }
      ]
    },
    {
      "cell_type": "code",
      "source": [
        "num_list[1]"
      ],
      "metadata": {
        "colab": {
          "base_uri": "https://localhost:8080/",
          "height": 36
        },
        "id": "LrzeDYSBmFUF",
        "outputId": "48414001-f14c-4faf-bcd3-e4dc6155c532"
      },
      "execution_count": null,
      "outputs": [
        {
          "output_type": "execute_result",
          "data": {
            "text/plain": [
              "'14'"
            ],
            "application/vnd.google.colaboratory.intrinsic+json": {
              "type": "string"
            }
          },
          "metadata": {},
          "execution_count": 15
        }
      ]
    },
    {
      "cell_type": "code",
      "source": [
        "num_list[2]"
      ],
      "metadata": {
        "colab": {
          "base_uri": "https://localhost:8080/"
        },
        "id": "C9rdl32mmHsH",
        "outputId": "09c92bfc-dee2-48c3-9ca2-275ea8852d6b"
      },
      "execution_count": null,
      "outputs": [
        {
          "output_type": "execute_result",
          "data": {
            "text/plain": [
              "[16, 20, 30]"
            ]
          },
          "metadata": {},
          "execution_count": 17
        }
      ]
    },
    {
      "cell_type": "code",
      "source": [
        "numbers=[2,3,6,20,22]\n",
        "min = min(numbers)"
      ],
      "metadata": {
        "id": "4BouOw_xmNyG"
      },
      "execution_count": null,
      "outputs": []
    },
    {
      "cell_type": "code",
      "source": [
        "print(min)"
      ],
      "metadata": {
        "colab": {
          "base_uri": "https://localhost:8080/"
        },
        "id": "0WQlQ92Rnivh",
        "outputId": "d94c25c8-b67d-427d-ee23-7175550290b9"
      },
      "execution_count": null,
      "outputs": [
        {
          "output_type": "stream",
          "name": "stdout",
          "text": [
            "2\n"
          ]
        }
      ]
    },
    {
      "cell_type": "code",
      "source": [
        "print(max(numbers))"
      ],
      "metadata": {
        "colab": {
          "base_uri": "https://localhost:8080/"
        },
        "id": "QxdZk5pYnnR4",
        "outputId": "727df93c-d3b4-4a52-b3d2-132af7923679"
      },
      "execution_count": null,
      "outputs": [
        {
          "output_type": "stream",
          "name": "stdout",
          "text": [
            "22\n"
          ]
        }
      ]
    },
    {
      "cell_type": "code",
      "source": [
        "numbers.append(50)"
      ],
      "metadata": {
        "id": "D4mgzAIYnq5r"
      },
      "execution_count": null,
      "outputs": []
    },
    {
      "cell_type": "code",
      "source": [
        "print(numbers)"
      ],
      "metadata": {
        "colab": {
          "base_uri": "https://localhost:8080/"
        },
        "id": "H3R6Rp2qoHn8",
        "outputId": "de59650e-e595-41e6-8da8-9bbb90e7b743"
      },
      "execution_count": null,
      "outputs": [
        {
          "output_type": "stream",
          "name": "stdout",
          "text": [
            "[2, 3, 6, 20, 22, 50]\n"
          ]
        }
      ]
    },
    {
      "cell_type": "code",
      "source": [
        "contoh_dict = {\n",
        "    'nim' : [2,3,5,6,9],\n",
        "    'nama':['Adhinda','Anita' ]\n",
        "}"
      ],
      "metadata": {
        "id": "Nj4OyJYLoL4d"
      },
      "execution_count": null,
      "outputs": []
    },
    {
      "cell_type": "code",
      "source": [
        "dict_phone = {\n",
        "    'brand' :['Samsung','Dell','Apple'],\n",
        "    'stock' :[27,20.10],\n",
        "    'type_k' : ['PC','Laptop','Tablet']\n",
        "\n",
        "}\n",
        "dict_phone"
      ],
      "metadata": {
        "colab": {
          "base_uri": "https://localhost:8080/"
        },
        "id": "Hjfy68FjqIAG",
        "outputId": "a5ce8084-28a7-4e28-9ec9-1d9e10083e8e"
      },
      "execution_count": null,
      "outputs": [
        {
          "output_type": "execute_result",
          "data": {
            "text/plain": [
              "{'brand': ['Samsung', 'Dell', 'Apple'],\n",
              " 'stock': [27, 20.1],\n",
              " 'type_k': ['PC', 'Laptop', 'Tablet']}"
            ]
          },
          "metadata": {},
          "execution_count": 30
        }
      ]
    },
    {
      "cell_type": "code",
      "source": [
        "Students={ \n",
        "'name':['Budi','Jessica'],\n",
        "'age':[19,24]\n",
        "}\n",
        "\n",
        "Students"
      ],
      "metadata": {
        "colab": {
          "base_uri": "https://localhost:8080/"
        },
        "id": "ZRRK81cZrUFp",
        "outputId": "8e303741-093e-43e4-a2db-0a9fda50b2da"
      },
      "execution_count": null,
      "outputs": [
        {
          "output_type": "execute_result",
          "data": {
            "text/plain": [
              "{'name': ['Budi', 'Jessica'], 'age': [19, 24]}"
            ]
          },
          "metadata": {},
          "execution_count": 31
        }
      ]
    },
    {
      "cell_type": "code",
      "source": [
        "Students['name']=['Arya','Yusuf']\n",
        "Students"
      ],
      "metadata": {
        "colab": {
          "base_uri": "https://localhost:8080/"
        },
        "id": "UozTimvosD--",
        "outputId": "a0ae3d19-50e6-4942-cc2a-e5a504cef77d"
      },
      "execution_count": null,
      "outputs": [
        {
          "output_type": "execute_result",
          "data": {
            "text/plain": [
              "{'name': ['Arya', 'Yusuf'], 'age': [19, 24]}"
            ]
          },
          "metadata": {},
          "execution_count": 32
        }
      ]
    },
    {
      "cell_type": "code",
      "source": [],
      "metadata": {
        "id": "NwR9ipXFsSkg"
      },
      "execution_count": null,
      "outputs": []
    }
  ]
}